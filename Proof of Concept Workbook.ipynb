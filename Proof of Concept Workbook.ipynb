{
 "cells": [
  {
   "cell_type": "markdown",
   "metadata": {},
   "source": [
    "### Proof of Concept for Waze Stuff \n"
   ]
  },
  {
   "cell_type": "code",
   "execution_count": 1,
   "metadata": {},
   "outputs": [
    {
     "name": "stderr",
     "output_type": "stream",
     "text": [
      "C:\\Users\\Coleman.Shepard.ctr\\AppData\\Local\\Continuum\\anaconda3\\lib\\site-packages\\pysal\\model\\spvcm\\abstracts.py:10: UserWarning: The `dill` module is required to use the sqlite backend fully.\n",
      "  from .sqlite import head_to_sql, start_sql\n"
     ]
    }
   ],
   "source": [
    "from shapely.geometry import Point,shape, mapping\n",
    "from IPython.display import clear_output\n",
    "from shapely.ops import unary_union\n",
    "import fiona\n",
    "from fiona import collection"
   ]
  },
  {
   "cell_type": "markdown",
   "metadata": {},
   "source": [
    "### Load in shapefiles, buffer roads, and union the buffers"
   ]
  },
  {
   "cell_type": "code",
   "execution_count": 5,
   "metadata": {},
   "outputs": [],
   "source": [
    "accidents = fiona.open('HPMS/ggez.shp', 'r')\n",
    "roadway = fiona.open('Alabama_Count.shp', 'r')"
   ]
  },
  {
   "cell_type": "code",
   "execution_count": 9,
   "metadata": {},
   "outputs": [
    {
     "name": "stdout",
     "output_type": "stream",
     "text": [
      "Gone through 172674 records out of 172,674 aka 100.0 percent\n",
      "Wall time: 1h 52min 34s\n"
     ]
    }
   ],
   "source": [
    "%%time\n",
    "\n",
    "y = 0\n",
    "\n",
    "with fiona.open('Terry_09122019_156.shp', 'w', driver='ESRI Shapefile', schema=roadway.schema) as output:\n",
    "    # Loop through road shapefile and review geometry\n",
    "    for road in roadway:\n",
    "        y+=1\n",
    "\n",
    "        clear_output()\n",
    "        print('Gone through', y, 'records out of 172,674 aka', round((y/172674)*100,2), 'percent')\n",
    "\n",
    "        # There are some records with a NoneType for geometry, but this can be passed over\n",
    "        if road['geometry'] != None:\n",
    "            geom = shape(road['geometry']).buffer(0.001)\n",
    "\n",
    "            for accident in accidents:\n",
    "                lat = accident['geometry']['coordinates'][1]\n",
    "                lon = accident['geometry']['coordinates'][0]\n",
    "                bounds = roadway.bounds\n",
    "\n",
    "                # filter based on bounding box of roads\n",
    "                if lat > bounds[1] and lat < bounds[3]:\n",
    "                    if lon > bounds[0] and lon < bounds[2]:\n",
    "                        if geom.contains(shape(accident['geometry'])) == True:\n",
    "                            road['properties']['Count'] += 1\n",
    "\n",
    "            output.write(road)"
   ]
  },
  {
   "cell_type": "code",
   "execution_count": null,
   "metadata": {},
   "outputs": [],
   "source": []
  }
 ],
 "metadata": {
  "kernelspec": {
   "display_name": "Python 3",
   "language": "python",
   "name": "python3"
  },
  "language_info": {
   "codemirror_mode": {
    "name": "ipython",
    "version": 3
   },
   "file_extension": ".py",
   "mimetype": "text/x-python",
   "name": "python",
   "nbconvert_exporter": "python",
   "pygments_lexer": "ipython3",
   "version": "3.7.3"
  }
 },
 "nbformat": 4,
 "nbformat_minor": 2
}
